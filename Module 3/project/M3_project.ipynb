{
 "cells": [
  {
   "cell_type": "code",
   "execution_count": null,
   "id": "589aa409-ba69-434f-8ddf-7dc0aaf892a9",
   "metadata": {},
   "outputs": [],
   "source": [
    "pip install tensorflow"
   ]
  },
  {
   "cell_type": "code",
   "execution_count": null,
   "id": "4b6b0218-a357-4d36-8949-fb96fa24efc0",
   "metadata": {},
   "outputs": [],
   "source": [
    "pip install umap-learn"
   ]
  },
  {
   "cell_type": "code",
   "execution_count": 114,
   "id": "362496f6-d0c6-4b1d-94e9-4c2ca447470c",
   "metadata": {},
   "outputs": [],
   "source": [
    "import numpy as np\n",
    "import scipy.stats\n",
    "import matplotlib.pyplot as plt\n",
    "import sklearn\n",
    "import tensorflow as tf\n",
    "import pandas as pd\n",
    "import umap\n",
    "import plotly.express as px\n",
    "from IPython.display import display"
   ]
  },
  {
   "cell_type": "code",
   "execution_count": 116,
   "id": "f009b4a8-8b57-441c-b685-b43aca7d6b08",
   "metadata": {},
   "outputs": [],
   "source": [
    "pd.set_option('display.max_columns', None)\n",
    "pd.set_option('expand_frame_repr', True)"
   ]
  },
  {
   "cell_type": "code",
   "execution_count": 118,
   "id": "d82a8d9b-79fe-4c2c-9c28-a8f20b3837a4",
   "metadata": {},
   "outputs": [],
   "source": [
    "#Reading Publibike availability data\n",
    "dfPubliBikeAvailability = pd.read_csv(\"data/bike-availability-All-Stations_hourly.csv\", encoding='latin-1', sep=';')"
   ]
  },
  {
   "cell_type": "code",
   "execution_count": 120,
   "id": "01e5e0f4-1947-4535-9b27-f7d3771927ad",
   "metadata": {},
   "outputs": [],
   "source": [
    "#Prepareing Data\n",
    "# TODO---> Vielleicht auch nur mal genau eine Woche nutzen zum trainieren der Daten, da eine Woche ein recht gutes Pattern ist.\n",
    "dfPubliBikeAvailability = dfPubliBikeAvailability.rename(columns={\"Abfragezeit\": \"timestamp\"})\n",
    "dfPubliBikeAvailability[\"timestamp\"] = pd.to_datetime(dfPubliBikeAvailability[\"timestamp\"])\n",
    "dfPubliBikeAvailability[\"dayofweek\"] = dfPubliBikeAvailability[\"timestamp\"].dt.weekday\n",
    "dfPubliBikeAvailability[\"hourofday\"] = dfPubliBikeAvailability[\"timestamp\"].dt.hour"
   ]
  },
  {
   "cell_type": "code",
   "execution_count": 122,
   "id": "85a6787f-23e7-4773-97d0-411973bdb82d",
   "metadata": {},
   "outputs": [],
   "source": [
    "# Want to have 3 Groups with simular distribution\n",
    "dfPubliBikeAvailability['bike_availability'] = dfPubliBikeAvailability['Bike']\n",
    "\n",
    "dfPubliBikeAvailability['e-bike_availability'] = dfPubliBikeAvailability['EBike']"
   ]
  },
  {
   "cell_type": "code",
   "execution_count": 124,
   "id": "6c453478-5be4-4882-a935-1d1824679488",
   "metadata": {},
   "outputs": [],
   "source": [
    "#Assining the availability into 3 Groups;  Group \"0\" --> Available bikes = 0-1; Group \"1\" --> Available bikes = 2-4; Group \"2\" --> 5 or more\n",
    "dfPubliBikeAvailability['bike_availability'] = [0 if (i<2) else i for i in dfPubliBikeAvailability['bike_availability']]\n",
    "dfPubliBikeAvailability['bike_availability'] = [1 if (1<i<5) else i for i in dfPubliBikeAvailability['bike_availability']]\n",
    "dfPubliBikeAvailability['bike_availability'] = [2 if (i>4) else i for i in dfPubliBikeAvailability['bike_availability']]\n",
    "\n",
    "dfPubliBikeAvailability['e-bike_availability'] = [0 if (i<2) else i for i in dfPubliBikeAvailability['e-bike_availability']]\n",
    "dfPubliBikeAvailability['e-bike_availability'] = [1 if (1<i<5) else i for i in dfPubliBikeAvailability['e-bike_availability']]\n",
    "dfPubliBikeAvailability['e-bike_availability'] = [2 if (i>4) else i for i in dfPubliBikeAvailability['e-bike_availability']]"
   ]
  },
  {
   "cell_type": "code",
   "execution_count": null,
   "id": "3dd3f277-d907-4866-a088-7d6d5a3af54e",
   "metadata": {},
   "outputs": [],
   "source": [
    "# Get all unique station IDs\n",
    "all_station_ids = dfPubliBikeAvailability['id'].unique()\n",
    "\n",
    "# Print the unique station IDs\n",
    "print(\"All Station IDs:\")\n",
    "print(all_station_ids)"
   ]
  },
  {
   "cell_type": "code",
   "execution_count": 198,
   "id": "c0393a57-c7ff-4de0-b1bd-12e2ffbfb6db",
   "metadata": {},
   "outputs": [],
   "source": [
    "# Filter the DataFrame based on the specified station ID\n",
    "filtered_df = dfPubliBikeAvailability[dfPubliBikeAvailability['id'] == 230]"
   ]
  },
  {
   "cell_type": "code",
   "execution_count": null,
   "id": "4cf0a0ae-dca9-485c-a2bd-27bc5162bffa",
   "metadata": {},
   "outputs": [],
   "source": [
    "#Plot availability Groups over Time\n",
    "fig = px.line(filtered_df, x=\"timestamp\", y=\"e-bike_availability\")\n",
    "\n",
    "fig.show()"
   ]
  },
  {
   "cell_type": "code",
   "execution_count": null,
   "id": "646acc8c-1ba6-4940-acae-39d8591c4981",
   "metadata": {},
   "outputs": [],
   "source": [
    "# Create a continuous numerical representation for the x-axis\n",
    "filtered_df.loc[:,'continuous_time'] = filtered_df['dayofweek'] * 24 + filtered_df['hourofday']\n",
    "\n",
    "# Create a violin plot\n",
    "fig = px.violin(filtered_df, x='continuous_time', y='e-bike_availability',\n",
    "                labels={'continuous_time': 'Continuous Time', 'e-bike_availability': 'Bike Availability'},\n",
    "                title='Violin Plot of Bike Availability over Continuous Time')\n",
    "\n",
    "# Show the plot\n",
    "fig.show()"
   ]
  },
  {
   "cell_type": "code",
   "execution_count": null,
   "id": "f952ecee-b8b6-43f8-a6e3-264d0ee2efbe",
   "metadata": {},
   "outputs": [],
   "source": [
    "#Plot the histogram of availability just to see if the distribution over the three availavility groups is simular\n",
    "plt.hist(dfPubliBikeAvailability['bike_availability'], fill=False, histtype='step', label=\"length\", density=\"True\", bins = 100)\n",
    "plt.show()"
   ]
  }
 ],
 "metadata": {
  "kernelspec": {
   "display_name": "anaconda-panel-2023.05-py310",
   "language": "python",
   "name": "conda-env-anaconda-panel-2023.05-py310-py"
  },
  "language_info": {
   "codemirror_mode": {
    "name": "ipython",
    "version": 3
   },
   "file_extension": ".py",
   "mimetype": "text/x-python",
   "name": "python",
   "nbconvert_exporter": "python",
   "pygments_lexer": "ipython3",
   "version": "3.11.5"
  }
 },
 "nbformat": 4,
 "nbformat_minor": 5
}
